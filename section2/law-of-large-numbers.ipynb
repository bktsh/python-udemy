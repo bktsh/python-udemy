{
 "cells": [
  {
   "cell_type": "code",
   "execution_count": 452,
   "metadata": {},
   "outputs": [
    {
     "name": "stdout",
     "output_type": "stream",
     "text": [
      "counter / n --> 0.66\n",
      "------------------------------------\n",
      "mean -->  -0.04972741730470601\n"
     ]
    }
   ],
   "source": [
    "import numpy as np\n",
    "from numpy.random import randn\n",
    "\n",
    "expected = 68.2\n",
    "def mean_of_law_of_large_numbers(n):\n",
    "    counter = 0\n",
    "    for i in range(n):\n",
    "        x = randn()\n",
    "        if x > -1 and x < 1:\n",
    "            counter = counter + 1\n",
    "            #print(sum)\n",
    "    print('counter / n -->', (counter / n))\n",
    "\n",
    "mean_of_law_of_large_numbers(100)\n",
    "print('------------------------------------')\n",
    "\n",
    "def smarter_law_of_large_numbers(n):\n",
    "    counter = 0 \n",
    "    for i in randn(n):\n",
    "        if i < 1 and i > -1:\n",
    "            counter = counter + i\n",
    "    mean = counter/n \n",
    "    print(\"mean --> \",  mean)\n",
    "\n",
    "smarter_law_of_large_numbers(100)"
   ]
  }
 ],
 "metadata": {
  "kernelspec": {
   "display_name": "Python 3",
   "language": "python",
   "name": "python3"
  },
  "language_info": {
   "codemirror_mode": {
    "name": "ipython",
    "version": 3
   },
   "file_extension": ".py",
   "mimetype": "text/x-python",
   "name": "python",
   "nbconvert_exporter": "python",
   "pygments_lexer": "ipython3",
   "version": "3.7.4"
  }
 },
 "nbformat": 4,
 "nbformat_minor": 2
}
